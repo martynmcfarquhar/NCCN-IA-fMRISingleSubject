{
 "cells": [
  {
   "cell_type": "markdown",
   "id": "163a930f-0f59-4d39-a1d6-fe42ce664d4a",
   "metadata": {},
   "source": [
    "# The GLM: A Worked Example\n",
    "\n",
    "## Dataset\n",
    "To see how we use the GLM, we will work through a simple non-imaging example before turning to applying the GLM to fMRI data in the next section. In this example we're again looking at the miles per gallon (MPG) of a selection of cars. To keep this example contained, we have limited our sample to only 6 cars. The data set is shown below\n",
    "\n",
    "| MPG  | Horsepower | Weight | Transmission |\n",
    "| ---- | ---------- | ------ | ------------ |\n",
    "| 21.0 | 110        | 2.620  | Manual       |\n",
    "| 21.0 | 110        | 2.875  | Manual       |\n",
    "| 22.8 | 93         | 2.320  | Manual       |\n",
    "| 21.4 | 110        | 3.215  | Automatic    |\n",
    "| 18.7 | 175        | 3.440  | Automatic    |\n",
    "| 18.1 | 105        | 3.460  | Automatic    |\n",
    "\n",
    "In this example, MPG is our outcome variable and so forms the vector $\\mathbf{Y}$"
   ]
  },
  {
   "cell_type": "code",
   "execution_count": 1,
   "id": "63c1eb83-8584-40aa-bdc5-11b0c89ae24b",
   "metadata": {},
   "outputs": [
    {
     "data": {
      "text/html": [
       "<html><body><pre>Y = 6x1 double\n",
       "   21.0000\n",
       "   21.0000\n",
       "   22.8000\n",
       "   21.4000\n",
       "   18.7000\n",
       "   18.1000\n",
       "</pre></body></html>"
      ],
      "text/plain": [
       "Y = 6x1 double\n",
       "   21.0000\n",
       "   21.0000\n",
       "   22.8000\n",
       "   21.4000\n",
       "   18.7000\n",
       "   18.1000\n"
      ]
     },
     "execution_count": 1,
     "metadata": {},
     "output_type": "execute_result"
    }
   ],
   "source": [
    "Y = [21.0 21.0 22.8 21.4 18.7 18.1]'"
   ]
  },
  {
   "cell_type": "markdown",
   "id": "40faf465-f6e4-414e-bfc2-549334064d8f",
   "metadata": {},
   "source": [
    "## Building the Design Matrix\n",
    "In terms of our design matrix we need a column of 1s for the constant, followed by horsepower, weight and then a dummy variable for transmission. So our design matrix will be as follows"
   ]
  },
  {
   "cell_type": "code",
   "execution_count": 2,
   "id": "71c3b19b-414f-4da3-bddf-8b875cf9fc7a",
   "metadata": {
    "tags": []
   },
   "outputs": [
    {
     "data": {
      "text/html": [
       "<html><body><pre>X = 6x4 double\n",
       "    1.0000  110.0000    2.6200    1.0000\n",
       "    1.0000  110.0000    2.8750    1.0000\n",
       "    1.0000   93.0000    2.3200    1.0000\n",
       "    1.0000  110.0000    3.2150         0\n",
       "    1.0000  175.0000    3.4400         0\n",
       "    1.0000  105.0000    3.4600         0\n",
       "</pre></body></html>"
      ],
      "text/plain": [
       "X = 6x4 double\n",
       "    1.0000  110.0000    2.6200    1.0000\n",
       "    1.0000  110.0000    2.8750    1.0000\n",
       "    1.0000   93.0000    2.3200    1.0000\n",
       "    1.0000  110.0000    3.2150         0\n",
       "    1.0000  175.0000    3.4400         0\n",
       "    1.0000  105.0000    3.4600         0\n"
      ]
     },
     "execution_count": 2,
     "metadata": {},
     "output_type": "execute_result"
    }
   ],
   "source": [
    "X = [1     1     1     1     1     1;     ...\n",
    "     110   110   93    110   175   105;   ...\n",
    "     2.620 2.875 2.320 3.215 3.440 3.460; ...\n",
    "     1     1     1     0     0     0]'"
   ]
  },
  {
   "cell_type": "markdown",
   "id": "342bf0a4-a715-4adc-8d17-2599b691df97",
   "metadata": {},
   "source": [
    "Mathematically, our GLM currently has the form\n",
    "\n",
    "$$\n",
    "\\begin{bmatrix}\n",
    "21.0 \\\\ \n",
    "21.0 \\\\\n",
    "22.8 \\\\\n",
    "21.4 \\\\\n",
    "18.7 \\\\\n",
    "18.1\n",
    "\\end{bmatrix}\n",
    "=\n",
    "\\begin{bmatrix}\n",
    "1 & 110 & 2.620 & 1 \\\\\n",
    "1 & 110 & 2.875 & 1 \\\\\n",
    "1 & 93  & 2.320 & 1 \\\\\n",
    "1 & 110 & 3.215 & 0 \\\\\n",
    "1 & 175 & 3.440 & 0 \\\\\n",
    "1 & 105 & 3.460 & 0\n",
    "\\end{bmatrix}\n",
    "\\begin{bmatrix}\n",
    "\\beta_{0} \\\\\n",
    "\\beta_{1} \\\\\n",
    "\\beta_{2} \\\\\n",
    "\\beta_{3}\n",
    "\\end{bmatrix}\n",
    "+\n",
    "\\begin{bmatrix}\n",
    "\\epsilon_{1} \\\\ \n",
    "\\epsilon_{2} \\\\\n",
    "\\epsilon_{3} \\\\\n",
    "\\epsilon_{4} \\\\\n",
    "\\epsilon_{5} \\\\\n",
    "\\epsilon_{6}\n",
    "\\end{bmatrix}\n",
    "$$\n",
    "\n",
    "So, we have our *outcome* in $\\mathbf{Y}$ and our *predictors* arranged in $\\mathbf{X}$, but we do not know the values of the *parameters* or the *errors*.\n",
    "\n",
    "## Parameter Estimation\n",
    "We can estimate the parameters using the equation given in the previous section, derived from the method of maximum likelihood"
   ]
  },
  {
   "cell_type": "code",
   "execution_count": 3,
   "id": "81a84479-80d3-4911-a2da-481070f27635",
   "metadata": {
    "tags": []
   },
   "outputs": [
    {
     "data": {
      "text/html": [
       "<html><body><pre>beta = 4x1 double\n",
       "   36.7003\n",
       "   -0.0048\n",
       "   -4.9448\n",
       "   -1.7150\n",
       "</pre></body></html>"
      ],
      "text/plain": [
       "beta = 4x1 double\n",
       "   36.7003\n",
       "   -0.0048\n",
       "   -4.9448\n",
       "   -1.7150\n"
      ]
     },
     "execution_count": 3,
     "metadata": {},
     "output_type": "execute_result"
    }
   ],
   "source": [
    "beta = inv(X'*X)*X'*Y"
   ]
  },
  {
   "cell_type": "markdown",
   "id": "354c13c5-c426-4239-9bf1-44aef4370927",
   "metadata": {},
   "source": [
    "Once we have the parameter estimates we can calculate the predicted values of $\\mathbf{Y}$"
   ]
  },
  {
   "cell_type": "code",
   "execution_count": 4,
   "id": "d9f148ef-e79c-4ccb-9d7b-00919f58553e",
   "metadata": {
    "tags": []
   },
   "outputs": [
    {
     "data": {
      "text/html": [
       "<html><body><pre>Yhat = 6x1 double\n",
       "   21.4985\n",
       "   20.2375\n",
       "   23.0640\n",
       "   20.2713\n",
       "   18.8447\n",
       "   19.0840\n",
       "</pre></body></html>"
      ],
      "text/plain": [
       "Yhat = 6x1 double\n",
       "   21.4985\n",
       "   20.2375\n",
       "   23.0640\n",
       "   20.2713\n",
       "   18.8447\n",
       "   19.0840\n"
      ]
     },
     "execution_count": 4,
     "metadata": {},
     "output_type": "execute_result"
    }
   ],
   "source": [
    "Yhat = X*beta"
   ]
  },
  {
   "cell_type": "markdown",
   "id": "dc21e36b-48fe-4e3d-96bd-f3c2717c1bac",
   "metadata": {},
   "source": [
    "which can then be used calculate the errors"
   ]
  },
  {
   "cell_type": "code",
   "execution_count": 5,
   "id": "9152c370-51d1-432f-a49a-fcf34e045ceb",
   "metadata": {
    "tags": []
   },
   "outputs": [
    {
     "data": {
      "text/html": [
       "<html><body><pre>E = 6x1 double\n",
       "   -0.4985\n",
       "    0.7625\n",
       "   -0.2640\n",
       "    1.1287\n",
       "   -0.1447\n",
       "   -0.9840\n",
       "</pre></body></html>"
      ],
      "text/plain": [
       "E = 6x1 double\n",
       "   -0.4985\n",
       "    0.7625\n",
       "   -0.2640\n",
       "    1.1287\n",
       "   -0.1447\n",
       "   -0.9840\n"
      ]
     },
     "execution_count": 5,
     "metadata": {},
     "output_type": "execute_result"
    }
   ],
   "source": [
    "E = Y - Yhat"
   ]
  },
  {
   "cell_type": "markdown",
   "id": "b6fba16a-c558-46e7-8802-f0605725ec7a",
   "metadata": {},
   "source": [
    "Meaning we now have all the elements to complete the GLM equation\n",
    "\n",
    "$$\n",
    "\\begin{bmatrix}\n",
    "21.0 \\\\ \n",
    "21.0 \\\\\n",
    "22.8 \\\\\n",
    "21.4 \\\\\n",
    "18.7 \\\\\n",
    "18.1\n",
    "\\end{bmatrix}\n",
    "=\n",
    "\\begin{bmatrix}\n",
    "1 & 110 & 2.620 & 1 \\\\\n",
    "1 & 110 & 2.875 & 1 \\\\\n",
    "1 & 93  & 2.320 & 1 \\\\\n",
    "1 & 110 & 3.215 & 0 \\\\\n",
    "1 & 175 & 3.440 & 0 \\\\\n",
    "1 & 105 & 3.460 & 0\n",
    "\\end{bmatrix}\n",
    "\\begin{bmatrix}\n",
    "36.700 \\\\\n",
    "-0.005 \\\\\n",
    "-4.945 \\\\\n",
    "-1.715\n",
    "\\end{bmatrix}\n",
    "+\n",
    "\\begin{bmatrix}\n",
    "-0.499 \\\\\n",
    "\\hphantom{-}0.763 \\\\\n",
    "-0.264 \\\\\n",
    "\\hphantom{-}1.129 \\\\\n",
    "-0.145 \\\\\n",
    "-0.984\n",
    "\\end{bmatrix}\n",
    "$$\n",
    "\n",
    "## Interpreting the Parameters\n",
    "\n",
    "In terms of interpreting the parameters, it's helpful to put them in a table\n",
    "\n",
    "| Effect       | Estimate | \n",
    "| ------------ | -------- |\n",
    "| Constant     | 36.700   |\n",
    "| Horsepower   | -0.005   |\n",
    "| Weight       | -4.945   |\n",
    "| Transmission | -1.715   |\n",
    "\n",
    "The interpretation is that \n",
    "- An increase in horsepower of 1 leads to a decrease in MPG of 0.005 miles\n",
    "- An increase in weight of 1000lbs leads to a decrease in MPG of 4.946 miles \n",
    "- The average difference between automatic and manual transmission cars is a reduction in MPG of 1.715 miles\n",
    "\n",
    "The standard errors can finally be computed using the variance estimate"
   ]
  },
  {
   "cell_type": "code",
   "execution_count": 6,
   "id": "3c11b867-da76-42e8-90ae-dc0532668e67",
   "metadata": {
    "tags": []
   },
   "outputs": [
    {
     "data": {
      "text/html": [
       "<html><body><pre>sigma2 = 1.5813</pre></body></html>"
      ],
      "text/plain": [
       "sigma2 = 1.5813"
      ]
     },
     "execution_count": 6,
     "metadata": {},
     "output_type": "execute_result"
    }
   ],
   "source": [
    "n      = size(X,1);\n",
    "p      = size(X,2);\n",
    "sigma2 = (E'*E) / (n-p)"
   ]
  },
  {
   "cell_type": "markdown",
   "id": "4bd90cb7-4494-4d7c-a084-bd7194e4cd09",
   "metadata": {},
   "source": [
    "which can then be used to construct the variance-covariance matrix of the parameter estimates and extract the standard errors"
   ]
  },
  {
   "cell_type": "code",
   "execution_count": 9,
   "id": "54ad6871-9bdd-447e-bdf0-112744d4bc29",
   "metadata": {
    "tags": []
   },
   "outputs": [
    {
     "data": {
      "text/html": [
       "<html><body><pre>SE = 4x1 double\n",
       "    9.7385\n",
       "    0.0236\n",
       "    3.0750\n",
       "    2.4422\n",
       "</pre></body></html>"
      ],
      "text/plain": [
       "SE = 4x1 double\n",
       "    9.7385\n",
       "    0.0236\n",
       "    3.0750\n",
       "    2.4422\n"
      ]
     },
     "execution_count": 9,
     "metadata": {},
     "output_type": "execute_result"
    }
   ],
   "source": [
    "covBeta = sigma2 * inv(X'*X);\n",
    "SE      = sqrt(diag(covBeta))"
   ]
  },
  {
   "cell_type": "markdown",
   "id": "8c6b73f1-c10c-4bd1-96ad-ec48574a1822",
   "metadata": {},
   "source": [
    "which we can add to the table from above\n",
    "\n",
    "| Effect       | Estimate | StdErr |\n",
    "| ------------ | -------- | ------ |\n",
    "| Constant     | 36.700   | 9.739  |\n",
    "| Horsepower   | -0.005   | 0.024  |\n",
    "| Weight       | -4.945   | 3.075  |\n",
    "| Transmission | -1.715   | 2.442  |\n",
    "\n",
    "providing both our estimates of the parameter values and their uncertainty.\n",
    "\n",
    "## Inference\n",
    "As indicated in the previous section, to make decisions about the estimates we would typically divide each estimate by each standard error to form a *t*-statistic"
   ]
  },
  {
   "cell_type": "code",
   "execution_count": 11,
   "id": "52a5a6ff-b977-443d-bcb3-311ebc4025da",
   "metadata": {
    "tags": []
   },
   "outputs": [
    {
     "data": {
      "text/html": [
       "<html><body><pre>t = 4x1 double\n",
       "    3.7686\n",
       "   -0.2045\n",
       "   -1.6081\n",
       "   -0.7022\n",
       "</pre></body></html>"
      ],
      "text/plain": [
       "t = 4x1 double\n",
       "    3.7686\n",
       "   -0.2045\n",
       "   -1.6081\n",
       "   -0.7022\n"
      ]
     },
     "execution_count": 11,
     "metadata": {},
     "output_type": "execute_result"
    }
   ],
   "source": [
    "t = beta ./ SE"
   ]
  },
  {
   "cell_type": "markdown",
   "id": "355b6059-7e06-4aa9-a9c5-720d4824f04e",
   "metadata": {},
   "source": [
    "Which we can then use to query the null *t*-distribution with $n-p$ degrees of freedom in order to calculate *p*-values"
   ]
  },
  {
   "cell_type": "code",
   "execution_count": 17,
   "id": "7f2e5811-f00d-42f7-8eeb-8b45a94dd883",
   "metadata": {
    "tags": []
   },
   "outputs": [
    {
     "data": {
      "text/html": [
       "<html><body><pre>ans = 4x1 double\n",
       "    0.0319\n",
       "    0.4284\n",
       "    0.1245\n",
       "    0.2776\n",
       "</pre></body></html>"
      ],
      "text/plain": [
       "ans = 4x1 double\n",
       "    0.0319\n",
       "    0.4284\n",
       "    0.1245\n",
       "    0.2776\n"
      ]
     },
     "execution_count": 17,
     "metadata": {},
     "output_type": "execute_result"
    }
   ],
   "source": [
    "1 - tcdf(abs(t),n-p)"
   ]
  },
  {
   "cell_type": "markdown",
   "id": "ae7823cb-409d-47dc-9a0d-db0aa6c8c9b6",
   "metadata": {},
   "source": [
    "Which can add to our table to complete all the information we need for this analysis\n",
    "\n",
    "| Effect       | Estimate | StdErr | *t*    | *p*       |\n",
    "| ------------ | -------- | ------ | ------ | --------- |\n",
    "| Constant     | 36.700   | 9.739  | 3.769  | **0.032** |\n",
    "| Horsepower   | -0.005   | 0.024  | -0.205 | 0.428     |\n",
    "| Weight       | -4.945   | 3.075  | -1.608 | 0.125     |\n",
    "| Transmission | -1.715   | 2.442  | -0.702 | 0.278     |\n",
    "\n",
    "Based on this information, we would conclude that only the value of the constant was significantly different from zero. "
   ]
  },
  {
   "cell_type": "code",
   "execution_count": null,
   "id": "b5cb33cc-7e5b-4f4f-a7e3-4cbf69233067",
   "metadata": {},
   "outputs": [],
   "source": []
  }
 ],
 "metadata": {
  "kernelspec": {
   "display_name": "MATLAB Kernel",
   "language": "matlab",
   "name": "jupyter_matlab_kernel"
  },
  "language_info": {
   "file_extension": ".m",
   "mimetype": "text/x-matlab",
   "name": "matlab"
  }
 },
 "nbformat": 4,
 "nbformat_minor": 5
}
