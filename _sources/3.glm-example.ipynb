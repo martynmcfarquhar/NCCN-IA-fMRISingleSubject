{
 "cells": [
  {
   "cell_type": "markdown",
   "id": "163a930f-0f59-4d39-a1d6-fe42ce664d4a",
   "metadata": {},
   "source": [
    "# The GLM: A Worked Example\n",
    "\n",
    "## Dataset\n",
    "To see how we use the GLM, we will work through a simple non-imaging example before turning to applying the GLM to fMRI data in the next section. In this example we're again looking at the miles per gallon (MPG) of a selection of cars. To keep this example contained, we have limited our sample to only 6 cars. The data set is shown below\n",
    "\n",
    "| MPG  | Horsepower | Weight | Transmission |\n",
    "| ---- | ---------- | ------ | ------------ |\n",
    "| 21.0 | 110        | 2.620  | Manual       |\n",
    "| 21.0 | 110        | 2.875  | Manual       |\n",
    "| 22.8 | 93         | 2.320  | Manual       |\n",
    "| 21.4 | 110        | 3.215  | Automatic    |\n",
    "| 18.7 | 175        | 3.440  | Automatic    |\n",
    "| 18.1 | 105        | 3.460  | Automatic    |\n",
    "\n",
    "In this example, `MPG` is the outcome variable and so forms the vector $\\mathbf{Y}$"
   ]
  },
  {
   "cell_type": "code",
   "execution_count": 1,
   "id": "63c1eb83-8584-40aa-bdc5-11b0c89ae24b",
   "metadata": {
    "tags": []
   },
   "outputs": [
    {
     "data": {
      "text/html": [
       "<html><body><pre>Y = 6x1 double\n",
       "   21.0000\n",
       "   21.0000\n",
       "   22.8000\n",
       "   21.4000\n",
       "   18.7000\n",
       "   18.1000\n",
       "</pre></body></html>"
      ],
      "text/plain": [
       "Y = 6x1 double\n",
       "   21.0000\n",
       "   21.0000\n",
       "   22.8000\n",
       "   21.4000\n",
       "   18.7000\n",
       "   18.1000\n"
      ]
     },
     "execution_count": 1,
     "metadata": {},
     "output_type": "execute_result"
    }
   ],
   "source": [
    "Y = [21.0 21.0 22.8 21.4 18.7 18.1]'"
   ]
  },
  {
   "cell_type": "markdown",
   "id": "40faf465-f6e4-414e-bfc2-549334064d8f",
   "metadata": {},
   "source": [
    "## Building the Design Matrix\n",
    "In terms of our design matrix we need a column of 1s for the constant, followed by `horsepower`, `weight` and then a dummy variable for `transmission`."
   ]
  },
  {
   "cell_type": "code",
   "execution_count": 2,
   "id": "71c3b19b-414f-4da3-bddf-8b875cf9fc7a",
   "metadata": {
    "tags": []
   },
   "outputs": [
    {
     "data": {
      "text/html": [
       "<html><body><pre>X = 6x4 double\n",
       "    1.0000  110.0000    2.6200    1.0000\n",
       "    1.0000  110.0000    2.8750    1.0000\n",
       "    1.0000   93.0000    2.3200    1.0000\n",
       "    1.0000  110.0000    3.2150         0\n",
       "    1.0000  175.0000    3.4400         0\n",
       "    1.0000  105.0000    3.4600         0\n",
       "</pre></body></html>"
      ],
      "text/plain": [
       "X = 6x4 double\n",
       "    1.0000  110.0000    2.6200    1.0000\n",
       "    1.0000  110.0000    2.8750    1.0000\n",
       "    1.0000   93.0000    2.3200    1.0000\n",
       "    1.0000  110.0000    3.2150         0\n",
       "    1.0000  175.0000    3.4400         0\n",
       "    1.0000  105.0000    3.4600         0\n"
      ]
     },
     "execution_count": 2,
     "metadata": {},
     "output_type": "execute_result"
    }
   ],
   "source": [
    "X = [1     1     1     1     1     1;     ...\n",
    "     110   110   93    110   175   105;   ...\n",
    "     2.620 2.875 2.320 3.215 3.440 3.460; ...\n",
    "     1     1     1     0     0     0]'"
   ]
  },
  {
   "cell_type": "markdown",
   "id": "342bf0a4-a715-4adc-8d17-2599b691df97",
   "metadata": {},
   "source": [
    "Taking both the outcome and design matrix together, our GLM currently has the form\n",
    "\n",
    "$$\n",
    "\\begin{bmatrix}\n",
    "21.0 \\\\ \n",
    "21.0 \\\\\n",
    "22.8 \\\\\n",
    "21.4 \\\\\n",
    "18.7 \\\\\n",
    "18.1\n",
    "\\end{bmatrix}\n",
    "=\n",
    "\\begin{bmatrix}\n",
    "1 & 110 & 2.620 & 1 \\\\\n",
    "1 & 110 & 2.875 & 1 \\\\\n",
    "1 & 93  & 2.320 & 1 \\\\\n",
    "1 & 110 & 3.215 & 0 \\\\\n",
    "1 & 175 & 3.440 & 0 \\\\\n",
    "1 & 105 & 3.460 & 0\n",
    "\\end{bmatrix}\n",
    "\\begin{bmatrix}\n",
    "\\beta_{0} \\\\\n",
    "\\beta_{1} \\\\\n",
    "\\beta_{2} \\\\\n",
    "\\beta_{3}\n",
    "\\end{bmatrix}\n",
    "+\n",
    "\\begin{bmatrix}\n",
    "\\epsilon_{1} \\\\ \n",
    "\\epsilon_{2} \\\\\n",
    "\\epsilon_{3} \\\\\n",
    "\\epsilon_{4} \\\\\n",
    "\\epsilon_{5} \\\\\n",
    "\\epsilon_{6}\n",
    "\\end{bmatrix}\n",
    "$$\n",
    "\n",
    "So, we have our *outcome* in $\\mathbf{Y}$ and our *predictors* arranged in $\\mathbf{X}$, but we do not know the values of the *parameters* in $\\boldsymbol{\\beta}$ or the *errors* in $\\boldsymbol{\\epsilon}$.\n",
    "\n",
    "## Parameter Estimation\n",
    "We can estimate the parameters using the equation given in the previous section, derived from the method of maximum likelihood"
   ]
  },
  {
   "cell_type": "code",
   "execution_count": 3,
   "id": "81a84479-80d3-4911-a2da-481070f27635",
   "metadata": {
    "tags": []
   },
   "outputs": [
    {
     "data": {
      "text/html": [
       "<html><body><pre>beta = 4x1 double\n",
       "   36.7003\n",
       "   -0.0048\n",
       "   -4.9448\n",
       "   -1.7150\n",
       "</pre></body></html>"
      ],
      "text/plain": [
       "beta = 4x1 double\n",
       "   36.7003\n",
       "   -0.0048\n",
       "   -4.9448\n",
       "   -1.7150\n"
      ]
     },
     "execution_count": 3,
     "metadata": {},
     "output_type": "execute_result"
    }
   ],
   "source": [
    "beta = inv(X'*X)*X'*Y"
   ]
  },
  {
   "cell_type": "markdown",
   "id": "354c13c5-c426-4239-9bf1-44aef4370927",
   "metadata": {},
   "source": [
    "These are the most likely values for the parameters in the population, based on the current data. Once we have the parameter estimates we can calculate the predicted values of $\\mathbf{Y}$, denoted $\\hat{\\mathbf{Y}}$"
   ]
  },
  {
   "cell_type": "code",
   "execution_count": 4,
   "id": "d9f148ef-e79c-4ccb-9d7b-00919f58553e",
   "metadata": {
    "tags": []
   },
   "outputs": [
    {
     "data": {
      "text/html": [
       "<html><body><pre>Yhat = 6x1 double\n",
       "   21.4985\n",
       "   20.2375\n",
       "   23.0640\n",
       "   20.2713\n",
       "   18.8447\n",
       "   19.0840\n",
       "</pre></body></html>"
      ],
      "text/plain": [
       "Yhat = 6x1 double\n",
       "   21.4985\n",
       "   20.2375\n",
       "   23.0640\n",
       "   20.2713\n",
       "   18.8447\n",
       "   19.0840\n"
      ]
     },
     "execution_count": 4,
     "metadata": {},
     "output_type": "execute_result"
    }
   ],
   "source": [
    "Yhat = X*beta"
   ]
  },
  {
   "cell_type": "markdown",
   "id": "dc21e36b-48fe-4e3d-96bd-f3c2717c1bac",
   "metadata": {},
   "source": [
    "These values represent the points on the regression plane for each combination of predictor values. For instance, focussing on the first estimate, the model predicts that any car with 110 horsepower that weighs 2,620 lbs and has a manual transmission will achieve 21.4985 MPG. These estimates can then be used calculate the errors"
   ]
  },
  {
   "cell_type": "code",
   "execution_count": 5,
   "id": "9152c370-51d1-432f-a49a-fcf34e045ceb",
   "metadata": {
    "tags": []
   },
   "outputs": [
    {
     "data": {
      "text/html": [
       "<html><body><pre>E = 6x1 double\n",
       "   -0.4985\n",
       "    0.7625\n",
       "   -0.2640\n",
       "    1.1287\n",
       "   -0.1447\n",
       "   -0.9840\n",
       "</pre></body></html>"
      ],
      "text/plain": [
       "E = 6x1 double\n",
       "   -0.4985\n",
       "    0.7625\n",
       "   -0.2640\n",
       "    1.1287\n",
       "   -0.1447\n",
       "   -0.9840\n"
      ]
     },
     "execution_count": 5,
     "metadata": {},
     "output_type": "execute_result"
    }
   ],
   "source": [
    "E = Y - Yhat"
   ]
  },
  {
   "cell_type": "markdown",
   "id": "b6fba16a-c558-46e7-8802-f0605725ec7a",
   "metadata": {},
   "source": [
    "which represent the degree to which each of the model predictions diverge from the original data. We now have all the elements needed to complete the GLM equation\n",
    "\n",
    "$$\n",
    "\\begin{bmatrix}\n",
    "21.0 \\\\ \n",
    "21.0 \\\\\n",
    "22.8 \\\\\n",
    "21.4 \\\\\n",
    "18.7 \\\\\n",
    "18.1\n",
    "\\end{bmatrix}\n",
    "=\n",
    "\\begin{bmatrix}\n",
    "1 & 110 & 2.620 & 1 \\\\\n",
    "1 & 110 & 2.875 & 1 \\\\\n",
    "1 & 93  & 2.320 & 1 \\\\\n",
    "1 & 110 & 3.215 & 0 \\\\\n",
    "1 & 175 & 3.440 & 0 \\\\\n",
    "1 & 105 & 3.460 & 0\n",
    "\\end{bmatrix}\n",
    "\\begin{bmatrix}\n",
    "36.700 \\\\\n",
    "-0.005 \\\\\n",
    "-4.945 \\\\\n",
    "-1.715\n",
    "\\end{bmatrix}\n",
    "+\n",
    "\\begin{bmatrix}\n",
    "-0.499 \\\\\n",
    "\\hphantom{-}0.763 \\\\\n",
    "-0.264 \\\\\n",
    "\\hphantom{-}1.129 \\\\\n",
    "-0.145 \\\\\n",
    "-0.984\n",
    "\\end{bmatrix}\n",
    "$$\n",
    "\n",
    "## Interpreting the Parameters\n",
    "\n",
    "In terms of interpreting the parameters, it is helpful to first put them in a table\n",
    "\n",
    "| Effect       | Estimate | \n",
    "| ------------ | -------- |\n",
    "| Constant     | 36.700   |\n",
    "| Horsepower   | -0.005   |\n",
    "| Weight       | -4.945   |\n",
    "| Transmission | -1.715   |\n",
    "\n",
    "The interpretation is then that \n",
    "- An increase in `horsepower` of 1 leads to a decrease in `MPG` of 0.005 miles\n",
    "- An increase in `weight` of 1000lbs leads to a decrease in `MPG` of 4.946 miles \n",
    "- The average difference between automatic and manual transmission cars is a reduction in `MPG` of 1.715 miles\n",
    "\n",
    "While at first it seems that `weight` has the most effect on `MPG`, it is notable that these raw estimates are difficult to interpret due to their differing units (e.g. 1 horsepower vs 1000lbs), and the fact that we have not taken the uncertainty of the estimates into account. To do so, we can calculate the standard errors using the estimate of the model variance"
   ]
  },
  {
   "cell_type": "code",
   "execution_count": 6,
   "id": "3c11b867-da76-42e8-90ae-dc0532668e67",
   "metadata": {
    "tags": []
   },
   "outputs": [
    {
     "data": {
      "text/html": [
       "<html><body><pre>sigma2 = 1.5813</pre></body></html>"
      ],
      "text/plain": [
       "sigma2 = 1.5813"
      ]
     },
     "execution_count": 6,
     "metadata": {},
     "output_type": "execute_result"
    }
   ],
   "source": [
    "n      = size(X,1);\n",
    "p      = size(X,2);\n",
    "sigma2 = (E'*E) / (n-p)"
   ]
  },
  {
   "cell_type": "markdown",
   "id": "4bd90cb7-4494-4d7c-a084-bd7194e4cd09",
   "metadata": {},
   "source": [
    "which can then be used to construct the variance-covariance matrix of the parameter estimates and extract the standard errors"
   ]
  },
  {
   "cell_type": "code",
   "execution_count": 7,
   "id": "54ad6871-9bdd-447e-bdf0-112744d4bc29",
   "metadata": {
    "tags": []
   },
   "outputs": [
    {
     "data": {
      "text/html": [
       "<html><body><pre>SE = 4x1 double\n",
       "    9.7385\n",
       "    0.0236\n",
       "    3.0750\n",
       "    2.4422\n",
       "</pre></body></html>"
      ],
      "text/plain": [
       "SE = 4x1 double\n",
       "    9.7385\n",
       "    0.0236\n",
       "    3.0750\n",
       "    2.4422\n"
      ]
     },
     "execution_count": 7,
     "metadata": {},
     "output_type": "execute_result"
    }
   ],
   "source": [
    "covBeta = sigma2 * inv(X'*X);\n",
    "SE      = sqrt(diag(covBeta))"
   ]
  },
  {
   "cell_type": "markdown",
   "id": "8c6b73f1-c10c-4bd1-96ad-ec48574a1822",
   "metadata": {},
   "source": [
    "We can then add these estimates to the table from above\n",
    "\n",
    "| Effect       | Estimate | SE     |\n",
    "| ------------ | -------- | ------ |\n",
    "| Constant     | 36.700   | 9.739  |\n",
    "| Horsepower   | -0.005   | 0.024  |\n",
    "| Weight       | -4.945   | 3.075  |\n",
    "| Transmission | -1.715   | 2.442  |\n",
    "\n",
    "providing both our estimates of the parameter values and their uncertainty.\n",
    "\n",
    "## Inference\n",
    "As indicated in the previous section, to make decisions about the estimates we would typically divide each estimate by each standard error to form a *t*-statistic"
   ]
  },
  {
   "cell_type": "code",
   "execution_count": 8,
   "id": "52a5a6ff-b977-443d-bcb3-311ebc4025da",
   "metadata": {
    "tags": []
   },
   "outputs": [
    {
     "data": {
      "text/html": [
       "<html><body><pre>t = 4x1 double\n",
       "    3.7686\n",
       "   -0.2045\n",
       "   -1.6081\n",
       "   -0.7022\n",
       "</pre></body></html>"
      ],
      "text/plain": [
       "t = 4x1 double\n",
       "    3.7686\n",
       "   -0.2045\n",
       "   -1.6081\n",
       "   -0.7022\n"
      ]
     },
     "execution_count": 8,
     "metadata": {},
     "output_type": "execute_result"
    }
   ],
   "source": [
    "t = beta ./ SE"
   ]
  },
  {
   "cell_type": "markdown",
   "id": "355b6059-7e06-4aa9-a9c5-720d4824f04e",
   "metadata": {},
   "source": [
    "which we can then use to calculate *p*-values by querying the null *t*-distribution with $n-p$ degrees of freedom"
   ]
  },
  {
   "cell_type": "code",
   "execution_count": 9,
   "id": "7f2e5811-f00d-42f7-8eeb-8b45a94dd883",
   "metadata": {
    "tags": []
   },
   "outputs": [
    {
     "data": {
      "text/html": [
       "<html><body><pre>pvals = 4x1 double\n",
       "    0.0638\n",
       "    0.8569\n",
       "    0.2491\n",
       "    0.5553\n",
       "</pre></body></html>"
      ],
      "text/plain": [
       "pvals = 4x1 double\n",
       "    0.0638\n",
       "    0.8569\n",
       "    0.2491\n",
       "    0.5553\n"
      ]
     },
     "execution_count": 9,
     "metadata": {},
     "output_type": "execute_result"
    }
   ],
   "source": [
    "pvals = 1 - tcdf(abs(t),n-p); % one-tailed tests\n",
    "pvals = pvals .* 2            % two-tailed tests"
   ]
  },
  {
   "cell_type": "markdown",
   "id": "ae7823cb-409d-47dc-9a0d-db0aa6c8c9b6",
   "metadata": {},
   "source": [
    "Which can add to our table to complete all the information we need for this analysis\n",
    "\n",
    "| Effect       | Estimate | SE     | *t*    | *p*   |\n",
    "| ------------ | -------- | ------ | ------ | ----- |\n",
    "| Constant     | 36.700   | 9.739  | 3.769  | 0.064 |\n",
    "| Horsepower   | -0.005   | 0.024  | -0.205 | 0.857 |\n",
    "| Weight       | -4.945   | 3.075  | -1.608 | 0.249 |\n",
    "| Transmission | -1.715   | 2.442  | -0.702 | 0.555 |\n",
    "\n",
    "Based on this information, we would conclude that none of the parameters were significantly different from zero. So although it appeared as if `weight` would be the most relevant predictor of `MPG`, according to this analysis there is not enough evidence to discount the posibility of *no* relationsip with `MPG` across all the predictor variables. Remember, that this conclusion is largely governed by the degree of *uncertainty* in the parameter estimates, due to the small sample. It is likely that with more data that the standard errors would decrease and a clearer picture of the relationship between these variables and `MPG` would emerge.\n",
    "\n",
    "## Using `fitlm`\n",
    "We can confirm the manual calculations given above by using the `fitlm` function from the MATLAB [Statistics and Machine Learning](https://uk.mathworks.com/products/statistics.html) toolbox. We pass the predictor variables as the first argument (missing out the constant) and the outcome variable as the second argument. As we can see, this function returns a table of values identical to those given above."
   ]
  },
  {
   "cell_type": "code",
   "execution_count": 3,
   "id": "b5cb33cc-7e5b-4f4f-a7e3-4cbf69233067",
   "metadata": {},
   "outputs": [
    {
     "data": {
      "text/html": [
       "<html><body><pre>Model = \n",
       "Linear regression model:\n",
       "    y ~ 1 + x1 + x2 + x3\n",
       "\n",
       "Estimated Coefficients:\n",
       "                    <strong>Estimate</strong>        <strong>SE</strong>        <strong>tStat</strong>       <strong>pValue</strong> \n",
       "                   <strong>__________</strong>    <strong>________</strong>    <strong>________</strong>    <strong>________</strong>\n",
       "\n",
       "    <strong>(Intercept)</strong>          36.7      9.7385      3.7686    0.063752\n",
       "    <strong>x1         </strong>    -0.0048303    0.023622    -0.20448      0.8569\n",
       "    <strong>x2         </strong>       -4.9448       3.075     -1.6081     0.24908\n",
       "    <strong>x3         </strong>        -1.715      2.4422    -0.70224     0.55526\n",
       "\n",
       "\n",
       "Number of observations: 6, Error degrees of freedom: 2\n",
       "Root Mean Squared Error: 1.26\n",
       "R-squared: 0.797,  Adjusted R-Squared: 0.493\n",
       "F-statistic vs. constant model: 2.62, p-value = 0.288</pre></body></html>"
      ],
      "text/plain": [
       "Model = \n",
       "Linear regression model:\n",
       "    y ~ 1 + x1 + x2 + x3\n",
       "\n",
       "Estimated Coefficients:\n",
       "                    <strong>Estimate</strong>        <strong>SE</strong>        <strong>tStat</strong>       <strong>pValue</strong> \n",
       "                   <strong>__________</strong>    <strong>________</strong>    <strong>________</strong>    <strong>________</strong>\n",
       "\n",
       "    <strong>(Intercept)</strong>          36.7      9.7385      3.7686    0.063752\n",
       "    <strong>x1         </strong>    -0.0048303    0.023622    -0.20448      0.8569\n",
       "    <strong>x2         </strong>       -4.9448       3.075     -1.6081     0.24908\n",
       "    <strong>x3         </strong>        -1.715      2.4422    -0.70224     0.55526\n",
       "\n",
       "\n",
       "Number of observations: 6, Error degrees of freedom: 2\n",
       "Root Mean Squared Error: 1.26\n",
       "R-squared: 0.797,  Adjusted R-Squared: 0.493\n",
       "F-statistic vs. constant model: 2.62, p-value = 0.288"
      ]
     },
     "execution_count": 3,
     "metadata": {},
     "output_type": "execute_result"
    }
   ],
   "source": [
    "Model = fitlm(X(:,2:4),Y)"
   ]
  },
  {
   "cell_type": "markdown",
   "id": "69790175-a361-428d-8786-2e44607c22ce",
   "metadata": {},
   "source": [
    "We can use the returned `Model` object to create *added variable* plots to visualise the edges of the regression plane, defined by the parameter estimates."
   ]
  },
  {
   "cell_type": "code",
   "execution_count": 5,
   "id": "d8b746a6-ba93-42cb-b0e4-7e14a5faaf91",
   "metadata": {},
   "outputs": [
    {
     "data": {
      "image/png": "[encoded data removed]"
     },
     "execution_count": 5,
     "metadata": {},
     "output_type": "execute_result"
    }
   ],
   "source": [
    "tiledlayout(3,1);\n",
    "nexttile;\n",
    "plotAdded(Model,2);\n",
    "nexttile;\n",
    "plotAdded(Model,3);\n",
    "nexttile;\n",
    "plotAdded(Model,4);"
   ]
  },
  {
   "cell_type": "markdown",
   "id": "84e8e1c7-0d22-43e1-a6bc-7bc872544d25",
   "metadata": {},
   "source": [
    "Noting that `transmission` no longer appears as a dummy variable because it has been *adjusted* for the presence of the other variables in the model. In all cases, the very wide confidence bands are a result of large uncertainty in the parameter estimates, due to the small sample size."
   ]
  },
  {
   "cell_type": "code",
   "execution_count": null,
   "id": "a8e4b930-9eaf-41a8-9861-ce71ff721133",
   "metadata": {},
   "outputs": [],
   "source": []
  }
 ],
 "metadata": {
  "kernelspec": {
   "display_name": "MATLAB Kernel",
   "language": "matlab",
   "name": "jupyter_matlab_kernel"
  },
  "language_info": {
   "file_extension": ".m",
   "mimetype": "text/x-matlab",
   "name": "matlab"
  }
 },
 "nbformat": 4,
 "nbformat_minor": 5
}
