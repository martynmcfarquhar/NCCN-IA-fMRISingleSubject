{
 "cells": [
  {
   "cell_type": "markdown",
   "id": "0aff9971-428c-4632-8dcc-2451ce81b45b",
   "metadata": {
    "tags": []
   },
   "source": [
    "# Introduction\n",
    "\n",
    "This lesson introduces the *general linear model* (GLM), which is one of the most important concepts you will learn about this year. The GLM is the backbone of all the statistical analyses we will be performing in this module, as well as many of analysis techniques we will see on the rest of the course. In this lesson, we will introduce the theory and principles behind the GLM, before seeing how the GLM is used to model fMRI data from a single subject. Although we are not often interested in results from just one subject, the approach used to analyse fMRI data is to first model the experimental responses from each subject separately, before later combining the results of these models to analyse groups. As such, this lesson represents the first steps towards a complete analysis of an fMRI dataset.\n",
    "\n",
    "## Contents\n",
    "\n",
    "```{tableofcontents}\n",
    "```\n",
    "\n",
    "## About the Author\n",
    "\n",
    "```{figure} images/martyn.jpeg\n",
    "---\n",
    "scale: 15%\n",
    "align: right\n",
    "---\n",
    "```\n",
    "\n",
    "**Dr Martyn McFarquhar | PhD FHEA**\n",
    "\n",
    "Lecturer in Neuroimaging\n",
    "\n",
    "4.31 Booth Street East | Division of Psychology, Communication and Human Neuroscience | School of Health Sciences | The University of Manchester M13 9PL\n",
    "\n",
    "t: +44 (0)161 275 2688 | e: [martyn.mcfarquhar@manchester.ac.uk](mailto:martyn.mcfarquhar@manchester.ac.uk)"
   ]
  },
  {
   "cell_type": "code",
   "execution_count": null,
   "id": "0c8f2030-28a7-4a21-b24d-494a9a96b6b4",
   "metadata": {},
   "outputs": [],
   "source": []
  }
 ],
 "metadata": {
  "kernelspec": {
   "display_name": "MATLAB Kernel",
   "language": "matlab",
   "name": "jupyter_matlab_kernel"
  },
  "language_info": {
   "file_extension": ".m",
   "mimetype": "text/x-matlab",
   "name": "matlab"
  }
 },
 "nbformat": 4,
 "nbformat_minor": 5
}
