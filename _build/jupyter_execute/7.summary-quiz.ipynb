{
 "cells": [
  {
   "cell_type": "markdown",
   "id": "698d8f5a-944d-449a-a9b1-3799ac19aff4",
   "metadata": {},
   "source": [
    "# Summary and Quiz\n",
    "This lesson has introduced the General Linear Model (GLM), which is one of the most important topics covered on this course. The GLM is the *heart* of fMRI data analysis, making it very important that you have a strong grasp of both the theory and application. It may take some time to get fully comfortable with some of these concepts, so make sure you return to this lesson as frequently as you need. The importance of the GLM to the world of neuroimaging cannot be overstated, as this is the most widely used method to discern meaning from brain imaging data. For those interested in a historical exploration of the application of the GLM to fMRI, the article \"[The general linear model and fMRI: Does love last forever?](https://www.sciencedirect.com/science/article/pii/S1053811912001607?via%3Dihub)\" may be particularly insightful. This article also provides an introduction to the GLM framework, which may be a useful adjunct to the contents of this lesson.\n",
    "\n",
    "## Quiz\n",
    "\n",
    "Use the quiz below to test your understanding from this lesson."
   ]
  },
  {
   "cell_type": "markdown",
   "id": "be9316a7-3c14-4282-8fd6-3a9418939e28",
   "metadata": {},
   "source": [
    "<iframe width=\"800px\" height=\"800px\" src=\"https://forms.office.com/Pages/ResponsePage.aspx?id=B8tSwU5hu0qBivA1z6kad9kpLkNdubNGu77CLsl9k_lURVQzRUs2SlhZT0YxTFdSVDVLTTg4UEFSRy4u&embed=true\" frameborder=\"0\" marginwidth=\"0\" marginheight=\"0\" style=\"border: none; max-width:100%; max-height:100vh\" allowfullscreen webkitallowfullscreen mozallowfullscreen msallowfullscreen> </iframe>"
   ]
  },
  {
   "cell_type": "code",
   "execution_count": null,
   "id": "4212af7e-7a72-4f85-9866-7c877fe17b4b",
   "metadata": {},
   "outputs": [],
   "source": []
  }
 ],
 "metadata": {
  "kernelspec": {
   "display_name": "MATLAB Kernel",
   "language": "matlab",
   "name": "jupyter_matlab_kernel"
  },
  "language_info": {
   "file_extension": ".m",
   "mimetype": "text/x-matlab",
   "name": "matlab"
  }
 },
 "nbformat": 4,
 "nbformat_minor": 5
}