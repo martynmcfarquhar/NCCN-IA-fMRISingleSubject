{
 "cells": [
  {
   "cell_type": "markdown",
   "id": "698d8f5a-944d-449a-a9b1-3799ac19aff4",
   "metadata": {},
   "source": [
    "# Summary and Quiz\n",
    "This lesson has introduced the GLM framework, which is one of the most important topics on this course. The impact of the GLM on the world of neuroimaging cannot be overstated as this approach is the most widely used method to discern meaning from neuroimaging data. A historical exploration and explanation of the application of the GLM to fMRI was published in 2012 as part of a 20th anniversary special edition of the journal NeuroImage. Many of the articles in this edition are worth reading for historical contexts on methods and software, but the article about the GLM, called The general linear model and fMRI: Does love last forever?, may be particularly interesting. This is really the heart of neuroimaging data analysis and so you need to make sure you get a strong grasp of what the GLM is and how it is used. This may take time to get fully comfortable with, so make sure you return to this lesson as often as you need to and give these concepts time to fully form in your mind.\n",
    "\n",
    "## Quiz\n",
    "\n",
    "Use the quiz below to test your understanding from this lesson."
   ]
  },
  {
   "cell_type": "markdown",
   "id": "be9316a7-3c14-4282-8fd6-3a9418939e28",
   "metadata": {},
   "source": [
    "<iframe width=\"800px\" height=\"800px\" src=\"https://forms.office.com/Pages/ResponsePage.aspx?id=B8tSwU5hu0qBivA1z6kad9kpLkNdubNGu77CLsl9k_lURVQzRUs2SlhZT0YxTFdSVDVLTTg4UEFSRy4u&embed=true\" frameborder=\"0\" marginwidth=\"0\" marginheight=\"0\" style=\"border: none; max-width:100%; max-height:100vh\" allowfullscreen webkitallowfullscreen mozallowfullscreen msallowfullscreen> </iframe>"
   ]
  },
  {
   "cell_type": "code",
   "execution_count": null,
   "id": "4212af7e-7a72-4f85-9866-7c877fe17b4b",
   "metadata": {},
   "outputs": [],
   "source": []
  }
 ],
 "metadata": {
  "kernelspec": {
   "display_name": "MATLAB Kernel",
   "language": "matlab",
   "name": "jupyter_matlab_kernel"
  },
  "language_info": {
   "file_extension": ".m",
   "mimetype": "text/x-matlab",
   "name": "matlab"
  }
 },
 "nbformat": 4,
 "nbformat_minor": 5
}