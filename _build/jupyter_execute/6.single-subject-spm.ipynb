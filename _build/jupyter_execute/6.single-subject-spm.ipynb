{
 "cells": [
  {
   "cell_type": "markdown",
   "id": "698f5c97-2739-4d03-8d5b-70c8dac3559f",
   "metadata": {},
   "source": [
    "# Single-subject Modelling in SPM\n",
    "In the final section of this lesson, we will see how to specify a single-subject GLM using SPM12. These models are also known as *1st-level* models, for reasons we will cover later in the course. The example data for this section consists of a fully pre-processed [functional scan](https://livemanchesterac.sharepoint.com/:u:/r/sites/UOM-FBMH-MSc-NCCN/Shared%20Documents/PCHN62121%20Image%20Analysis/Learning%20Materials/Asynchronous/Week%2008/2.%20Single-subject%20Models/Data/swRD018_PP012_Encoding.nii?csf=1&web=0&e=Xa6YSE&download=1) with associated [timing information](https://livemanchesterac.sharepoint.com/:x:/r/sites/UOM-FBMH-MSc-NCCN/Shared%20Documents/PCHN62121%20Image%20Analysis/Learning%20Materials/Asynchronous/Week%2008/2.%20Single-subject%20Models/Data/Timings.xlsx?d=w643a1e9e9efc44768b132bed48c4b00d&csf=1&web=0&e=tFu9G8&download=1).\n",
    "\n",
    "## Example Experiment\n",
    "The example experiment is a simple block design that involved viewing pictures of different valences. Each block consisted of 6 pictures from the same valence category and the blocks were arranged as illustrated in {numref}\n",
    "\n",
    "Examples of images shown during the positive block are given below\n",
    "\n",
    "Examples of images shown during the negative block are given below\n",
    "\n",
    "Examples of images shown during the neutral block are given below\n",
    "\n",
    "Between each repetition of positive, negative and neutral blocks, the subjects were asked to rest for 15 seconds. During this time they saw a fixation cross on the screen which turned into a double-cross 5 seconds before the end of rest. This is illustrated below.\n",
    "\n",
    "In terms of the scanning details, the TR was 2s, the TE was 30ms and the voxel size was 3mm isotropic. 145 volumes were collected of dimensions 53 $\\times$ 63 $\\times$ 52 voxels. The data has already been pre-processed by realignment to the first volume, normalisation to MNI space and Gaussian smoothing using a kernel of 8mm FWHM.\n",
    "\n",
    "## Modelling Approach\n",
    "In terms of the modelling approach, the video will show you how to specify a simple on-off dummy variable for each condition that will then be convolved with the canonical HRF. Importantly, the approach taken in the video is to use the rest condition as an implicit baseline. This means we do not model rest explicitly as a dummy variable, but instead leave it to form our constant or baseline condition. As explained earlier, this means our parameter estimates can be interpreted as mean differences representing the average signal change from rest for each experimental condition.\n",
    "\n",
    "## Inference\n",
    "Of note is that the video stops short of calculating *t*-statistics and *p*-values for the purpose of inference. Although seemingly a simple step in the examples shown in the lesson, inference using images is a much more complex affair. As such, we will leave this element of the analysis until next week.\n",
    "\n",
    "## Specifying a Single-subject Model in SPM\n",
    "The video below will... Of note is that there is no accompanying MATLAB code for this section, as building the design matrix and specifying the data information must be performed through the SPM graphical interface. Estimation is then performed using the `spm_spm` function, but there is little need to see this in action. We will cover how these models can be automated using code generated from the batch system later on the course.\n",
    "\n",
    "<div style=\"max-width: 1280px\"><div style=\"position: relative; padding-bottom: 56.25%; height: 0; overflow: hidden;\"><iframe src=\"https://livemanchesterac.sharepoint.com/sites/UOM-FBMH-MSc-NCCN/_layouts/15/embed.aspx?UniqueId=1852fc3c-b43d-4e07-b9bf-7a231b65d879&embed=%7B%22hvm%22%3Atrue%2C%22ust%22%3Atrue%7D&referrer=StreamWebApp&referrerScenario=EmbedDialog.Create\" width=\"1280\" height=\"720\" frameborder=\"0\" scrolling=\"no\" allowfullscreen title=\"SingleSubjectSPM.mov\" style=\"border:none; position: absolute; top: 0; left: 0; right: 0; bottom: 0; height: 100%; max-width: 100%;\"></iframe></div></div>"
   ]
  },
  {
   "cell_type": "code",
   "execution_count": null,
   "id": "187c3de4-a2af-42dc-ae4c-d7d966f16698",
   "metadata": {},
   "outputs": [],
   "source": []
  }
 ],
 "metadata": {
  "kernelspec": {
   "display_name": "MATLAB Kernel",
   "language": "matlab",
   "name": "jupyter_matlab_kernel"
  },
  "language_info": {
   "file_extension": ".m",
   "mimetype": "text/x-matlab",
   "name": "matlab"
  }
 },
 "nbformat": 4,
 "nbformat_minor": 5
}